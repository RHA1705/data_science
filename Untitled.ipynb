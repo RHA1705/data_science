{
 "cells": [
  {
   "cell_type": "markdown",
   "id": "ebe677e2",
   "metadata": {},
   "source": [
    "Dodawanie i odejmowanie skalara i wektora"
   ]
  },
  {
   "cell_type": "code",
   "execution_count": 1,
   "id": "c00f077b",
   "metadata": {},
   "outputs": [
    {
     "name": "stdout",
     "output_type": "stream",
     "text": [
      "[3. 4. 5. 6. 7.]\n",
      "[0. 1. 2. 3. 4.]\n"
     ]
    }
   ],
   "source": [
    "import numpy as np\n",
    "\n",
    "a = np.array([1, 2, 3, 4, 5], dtype=float) #array - obiekt opisujący wektor w bibliotece numpy\n",
    "print(a + 2)  # [3. 4. 5. 6. 7.]\n",
    "print(a - 1)  # [0. 1. 2. 3. 4.]"
   ]
  },
  {
   "cell_type": "markdown",
   "id": "e7bf7a98",
   "metadata": {},
   "source": [
    "Mnożenie wektora na skalar"
   ]
  },
  {
   "cell_type": "code",
   "execution_count": 12,
   "id": "d5aafdc1",
   "metadata": {},
   "outputs": [
    {
     "name": "stdout",
     "output_type": "stream",
     "text": [
      "[ 5. 10. 15. 20. 25.]\n"
     ]
    }
   ],
   "source": [
    "import numpy as np\n",
    "\n",
    "a = np.array([1, 2, 3, 4, 5], dtype=float)\n",
    "d = 5*a\n",
    "print(d)  # [ 5. 10. 15. 20. 25.]"
   ]
  },
  {
   "cell_type": "markdown",
   "id": "ece5d6d1",
   "metadata": {},
   "source": [
    "Dodawanie i odejmownie dwóch wektorów jest możliwe jedynie kiedy wektory mają podobny rozmiar - podobną ilość elementów"
   ]
  },
  {
   "cell_type": "code",
   "execution_count": 10,
   "id": "a7b45477",
   "metadata": {},
   "outputs": [
    {
     "name": "stdout",
     "output_type": "stream",
     "text": [
      "5\n",
      "[5 7 9]\n",
      "[-3 -3 -3]\n"
     ]
    },
    {
     "ename": "ValueError",
     "evalue": "operands could not be broadcast together with shapes (5,) (3,) ",
     "output_type": "error",
     "traceback": [
      "\u001b[1;31m---------------------------------------------------------------------------\u001b[0m",
      "\u001b[1;31mValueError\u001b[0m                                Traceback (most recent call last)",
      "Cell \u001b[1;32mIn[10], line 9\u001b[0m\n\u001b[0;32m      7\u001b[0m \u001b[38;5;28mprint\u001b[39m(b \u001b[38;5;241m+\u001b[39m c)\n\u001b[0;32m      8\u001b[0m \u001b[38;5;28mprint\u001b[39m(b \u001b[38;5;241m-\u001b[39m c)\n\u001b[1;32m----> 9\u001b[0m \u001b[38;5;28mprint\u001b[39m(\u001b[43ma\u001b[49m\u001b[43m \u001b[49m\u001b[38;5;241;43m+\u001b[39;49m\u001b[43m \u001b[49m\u001b[43mb\u001b[49m)\n",
      "\u001b[1;31mValueError\u001b[0m: operands could not be broadcast together with shapes (5,) (3,) "
     ]
    }
   ],
   "source": [
    "import numpy as np\n",
    "\n",
    "a = np.array([1, 2, 3, 4, 5], dtype=float)\n",
    "print(a.size)  # 5 - ilość elementów\n",
    "b = np.array([1, 2, 3])\n",
    "c = np.array([4, 5, 6]) \n",
    "print(b + c)\n",
    "print(b - c)\n",
    "print(a + b)\n"
   ]
  },
  {
   "cell_type": "markdown",
   "id": "cced214f",
   "metadata": {},
   "source": [
    "Skalarne mnożenie dwóch wektorów - jest sumą przemnożonych odpowiednich "
   ]
  },
  {
   "cell_type": "code",
   "execution_count": null,
   "id": "faf58512",
   "metadata": {},
   "outputs": [
    {
     "name": "stdout",
     "output_type": "stream",
     "text": [
      "[ 4 10 18]\n"
     ]
    }
   ],
   "source": [
    "import numpy as np\n",
    "\n",
    "print(b * c)  # [4 10 18] - operator\n"
   ]
  }
 ],
 "metadata": {
  "kernelspec": {
   "display_name": "Python 3",
   "language": "python",
   "name": "python3"
  },
  "language_info": {
   "codemirror_mode": {
    "name": "ipython",
    "version": 3
   },
   "file_extension": ".py",
   "mimetype": "text/x-python",
   "name": "python",
   "nbconvert_exporter": "python",
   "pygments_lexer": "ipython3",
   "version": "3.11.4"
  }
 },
 "nbformat": 4,
 "nbformat_minor": 5
}
